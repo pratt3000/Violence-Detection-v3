{
 "metadata": {
  "language_info": {
   "codemirror_mode": {
    "name": "ipython",
    "version": 3
   },
   "file_extension": ".py",
   "mimetype": "text/x-python",
   "name": "python",
   "nbconvert_exporter": "python",
   "pygments_lexer": "ipython3",
   "version": "3.6.12-final"
  },
  "orig_nbformat": 2,
  "kernelspec": {
   "name": "Python 3.6.12 64-bit ('tf1')",
   "display_name": "Python 3.6.12 64-bit ('tf1')",
   "metadata": {
    "interpreter": {
     "hash": "b61dba104367621e4544265f53912e0eee229b600776d472b4c852dafdface24"
    }
   }
  }
 },
 "nbformat": 4,
 "nbformat_minor": 2,
 "cells": [
  {
   "cell_type": "code",
   "execution_count": 1,
   "metadata": {},
   "outputs": [],
   "source": [
    "import numpy \n",
    "X = numpy.array([\n",
    "    [12,7,3],\n",
    "    [4 ,5,6],\n",
    "    [7 ,8,9]\n",
    "])\n",
    "\n",
    "Y = numpy.array([\n",
    "    [5,8,1],\n",
    "    [6,7,3],\n",
    "    [4,5,9]\n",
    "])"
   ]
  },
  {
   "cell_type": "code",
   "execution_count": 3,
   "metadata": {},
   "outputs": [
    {
     "output_type": "execute_result",
     "data": {
      "text/plain": "array([[10.90871211,         nan,  2.82842712],\n       [        nan,         nan,  5.19615242],\n       [ 5.74456265,  6.244998  ,  0.        ]])"
     },
     "metadata": {},
     "execution_count": 3
    }
   ],
   "source": [
    "numpy.sqrt(X ** 2 - Y ** 2)"
   ]
  },
  {
   "cell_type": "code",
   "execution_count": 3,
   "metadata": {},
   "outputs": [
    {
     "output_type": "execute_result",
     "data": {
      "text/plain": "array([[0., 0., 0., ..., 0., 0., 0.],\n       [0., 0., 0., ..., 0., 0., 0.],\n       [0., 0., 0., ..., 0., 0., 0.],\n       ...,\n       [0., 0., 0., ..., 0., 0., 0.],\n       [0., 0., 0., ..., 0., 0., 0.],\n       [0., 0., 0., ..., 0., 0., 0.]])"
     },
     "metadata": {},
     "execution_count": 3
    }
   ],
   "source": [
    "import numpy as np\n",
    "frame1=np.zeros((64,64))\n",
    "\n",
    "frame1\n"
   ]
  },
  {
   "cell_type": "code",
   "execution_count": 13,
   "metadata": {},
   "outputs": [
    {
     "output_type": "execute_result",
     "data": {
      "text/plain": "array([[ 86,  89,  84, ..., 175, 168, 171],\n       [ 89,  88,  85, ..., 171, 169, 174],\n       [ 91,  86,  79, ..., 177, 176, 172],\n       ...,\n       [ 65, 126, 123, ...,  78,  98,  99],\n       [ 61, 116, 140, ..., 108,  95, 102],\n       [ 89,  51, 121, ..., 100,  93, 110]], dtype=uint8)"
     },
     "metadata": {},
     "execution_count": 13
    }
   ],
   "source": [
    "\n",
    "# Python program to explain cv2.cvtColor() method  \n",
    "   \n",
    "# importing cv2  \n",
    "import cv2  \n",
    "   \n",
    "# path  \n",
    "path = r'/home/pratt3000/Pictures/Camera Roll/1.jpg'\n",
    "   \n",
    "# Reading an image in default mode \n",
    "src = cv2.imread(path)\n",
    "frame = cv2.cvtColor(src, cv2.COLOR_BGR2GRAY)\n",
    "frame = cv2.resize(frame, dsize=(64, 64), interpolation=cv2.INTER_CUBIC)\n",
    "frame"
   ]
  },
  {
   "cell_type": "code",
   "execution_count": 15,
   "metadata": {},
   "outputs": [
    {
     "output_type": "execute_result",
     "data": {
      "text/plain": "array([[0, 0, 0, ..., 0, 0, 0],\n       [0, 0, 0, ..., 0, 0, 0],\n       [0, 0, 0, ..., 0, 0, 0],\n       ...,\n       [0, 0, 0, ..., 0, 0, 0],\n       [0, 0, 0, ..., 0, 0, 0],\n       [0, 0, 0, ..., 0, 0, 0]], dtype=uint8)"
     },
     "metadata": {},
     "execution_count": 15
    }
   ],
   "source": [
    "frame1 = frame\n",
    "\n",
    "p=cv2.absdiff(frame1, frame)\n",
    "p"
   ]
  },
  {
   "cell_type": "code",
   "execution_count": 7,
   "metadata": {
    "tags": []
   },
   "outputs": [
    {
     "output_type": "stream",
     "name": "stdout",
     "text": "WARNING:tensorflow:From /home/pratt3000/Documents/projects/Violence Detection-v3/tf1/lib/python3.6/site-packages/tensorflow/python/ops/control_flow_ops.py:423: colocate_with (from tensorflow.python.framework.ops) is deprecated and will be removed in a future version.\nInstructions for updating:\nColocations handled automatically by placer.\nWARNING:tensorflow:From /home/pratt3000/Documents/projects/Violence Detection-v3/tf1/lib/python3.6/site-packages/keras/backend/tensorflow_backend.py:3445: calling dropout (from tensorflow.python.ops.nn_ops) with keep_prob is deprecated and will be removed in a future version.\nInstructions for updating:\nPlease use `rate` instead of `keep_prob`. Rate should be set to `rate = 1 - keep_prob`.\n__________________________________________________________________________________________________\nLayer (type)                    Output Shape         Param #     Connected to                     \n==================================================================================================\ninput_1 (InputLayer)            (None, 3, 64, 64, 1) 0                                            \n__________________________________________________________________________________________________\npermute_1 (Permute)             (None, 64, 64, 1, 3) 0           input_1[0][0]                    \n__________________________________________________________________________________________________\ngaussian_noise_1 (GaussianNoise (None, 64, 64, 1, 3) 0           permute_1[0][0]                  \n__________________________________________________________________________________________________\npermute_2 (Permute)             (None, 3, 64, 64, 1) 0           gaussian_noise_1[0][0]           \n__________________________________________________________________________________________________\nconv_lstm1 (ConvLSTM2D)         (None, 3, 64, 64, 4) 736         permute_2[0][0]                  \n__________________________________________________________________________________________________\nbatch_normalization_1 (BatchNor (None, 3, 64, 64, 4) 16          conv_lstm1[0][0]                 \n__________________________________________________________________________________________________\ntime_distributed_1 (TimeDistrib (None, 3, 32, 32, 4) 0           batch_normalization_1[0][0]      \n__________________________________________________________________________________________________\nconv_lstm2 (ConvLSTM2D)         (None, 3, 32, 32, 8) 3488        time_distributed_1[0][0]         \n__________________________________________________________________________________________________\nbatch_normalization_2 (BatchNor (None, 3, 32, 32, 8) 32          conv_lstm2[0][0]                 \n__________________________________________________________________________________________________\ntime_distributed_2 (TimeDistrib (None, 3, 16, 16, 8) 0           batch_normalization_2[0][0]      \n__________________________________________________________________________________________________\nconv_lstm3 (ConvLSTM2D)         (None, 3, 16, 16, 16 13888       time_distributed_2[0][0]         \n__________________________________________________________________________________________________\ntime_distributed_3 (TimeDistrib (None, 3, 32, 32, 16 0           conv_lstm3[0][0]                 \n__________________________________________________________________________________________________\nconv_lstm4 (ConvLSTM2D)         (None, 3, 32, 32, 16 18496       time_distributed_3[0][0]         \n__________________________________________________________________________________________________\nbatch_normalization_3 (BatchNor (None, 3, 32, 32, 16 64          conv_lstm4[0][0]                 \n__________________________________________________________________________________________________\nconv_lstm5 (ConvLSTM2D)         (None, 3, 32, 32, 8) 6944        batch_normalization_3[0][0]      \n__________________________________________________________________________________________________\nbatch_normalization_4 (BatchNor (None, 3, 32, 32, 8) 32          conv_lstm5[0][0]                 \n__________________________________________________________________________________________________\nadd_1 (Add)                     (None, 3, 32, 32, 8) 0           batch_normalization_2[0][0]      \n                                                                 batch_normalization_4[0][0]      \n__________________________________________________________________________________________________\ndropout_3 (Dropout)             (None, 3, 32, 32, 8) 0           add_1[0][0]                      \n__________________________________________________________________________________________________\ntime_distributed_4 (TimeDistrib (None, 3, 64, 64, 8) 0           dropout_3[0][0]                  \n__________________________________________________________________________________________________\nconv_lstm6 (ConvLSTM2D)         (None, 64, 64, 4)    1744        time_distributed_4[0][0]         \n__________________________________________________________________________________________________\nbatch_normalization_5 (BatchNor (None, 64, 64, 4)    16          conv_lstm6[0][0]                 \n__________________________________________________________________________________________________\nflatten_1 (Flatten)             (None, 16384)        0           batch_normalization_5[0][0]      \n__________________________________________________________________________________________________\ndense_1 (Dense)                 (None, 50)           819250      flatten_1[0][0]                  \n__________________________________________________________________________________________________\ndense_2 (Dense)                 (None, 2)            102         dense_1[0][0]                    \n==================================================================================================\nTotal params: 864,808\nTrainable params: 864,728\nNon-trainable params: 80\n__________________________________________________________________________________________________\n"
    }
   ],
   "source": [
    "import config\n",
    "\n",
    "from imageai.Detection import ObjectDetection\n",
    "import os\n",
    "import cv2\n",
    "import numpy as np\n",
    "\n",
    "from keras.models import Sequential\n",
    "from keras.callbacks import Callback\n",
    "from keras.layers import Conv2D, MaxPooling2D, Dropout, Dense, Flatten, UpSampling2D\n",
    "from keras import backend as K\n",
    "\n",
    "import random\n",
    "import glob\n",
    "# import wandb\n",
    "# from wandb.keras import WandbCallback\n",
    "import subprocess\n",
    "import os\n",
    "from PIL import Image\n",
    "import numpy as np\n",
    "from matplotlib.pyplot import imshow, figure\n",
    "from keras.layers import Lambda, Reshape, Permute, Input, add, Conv3D, GaussianNoise, concatenate\n",
    "from keras.layers import ConvLSTM2D, BatchNormalization, TimeDistributed, Add\n",
    "from keras.models import Model\n",
    "\n",
    "c=4\n",
    "FRAME_BATCH_SIZE=3\n",
    "IMG_SIZE=64\n",
    "inp = Input((FRAME_BATCH_SIZE,IMG_SIZE,IMG_SIZE,1))\n",
    "permuted = Permute((2,3,4,1))(inp)\n",
    "noise = GaussianNoise(0.1)(permuted)\n",
    "x = Permute((4,1,2,3))(noise)\n",
    "x =(ConvLSTM2D(filters=c, kernel_size=(3,3),padding='same',name='conv_lstm1', return_sequences=True))(x)\n",
    "\n",
    "c1=(BatchNormalization())(x)\n",
    "x = Dropout(0.2)(x)\n",
    "x =(TimeDistributed(MaxPooling2D(pool_size=(2,2))))(c1)\n",
    "\n",
    "x =(ConvLSTM2D(filters=2*c,kernel_size=(3,3),padding='same',name='conv_lstm2',return_sequences=True))(x)\n",
    "c2=(BatchNormalization())(x)\n",
    "x = Dropout(0.2)(x)\n",
    "\n",
    "x =(TimeDistributed(MaxPooling2D(pool_size=(2,2))))(c2)\n",
    "x =(ConvLSTM2D(filters=4*c,kernel_size=(3,3),padding='same',name='conv_lstm3',return_sequences=True))(x)\n",
    "\n",
    "x =(TimeDistributed(UpSampling2D(size=(2, 2))))(x)\n",
    "x =(ConvLSTM2D(filters=4*c,kernel_size=(3,3),padding='same',name='conv_lstm4',return_sequences=True))(x)\n",
    "x =(BatchNormalization())(x)\n",
    "\n",
    "x =(ConvLSTM2D(filters=2*c,kernel_size=(3,3),padding='same',name='conv_lstm5',return_sequences=True))(x)\n",
    "x =(BatchNormalization())(x)\n",
    "x = Add()([c2, x])\n",
    "x = Dropout(0.2)(x)\n",
    "\n",
    "x =(TimeDistributed(UpSampling2D(size=(2, 2))))(x)\n",
    "x =(ConvLSTM2D(filters=c,kernel_size=(3,3),padding='same',name='conv_lstm6',return_sequences=False))(x)\n",
    "x =(BatchNormalization())(x)\n",
    "\n",
    "x = (Flatten())(x)\n",
    "x = (Dense(units=50, activation='relu'))(x)\n",
    "\n",
    "x = (Dense(units=2, activation='relu'))(x)\n",
    "\n",
    "model=Model(inputs=[inp], outputs=[x])\n",
    "\n",
    "model.summary()\n"
   ]
  },
  {
   "cell_type": "code",
   "execution_count": null,
   "metadata": {},
   "outputs": [],
   "source": []
  }
 ]
}