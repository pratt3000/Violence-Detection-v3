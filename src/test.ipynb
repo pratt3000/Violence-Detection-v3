{
 "metadata": {
  "language_info": {
   "codemirror_mode": {
    "name": "ipython",
    "version": 3
   },
   "file_extension": ".py",
   "mimetype": "text/x-python",
   "name": "python",
   "nbconvert_exporter": "python",
   "pygments_lexer": "ipython3",
   "version": "3.8.3-final"
  },
  "orig_nbformat": 2,
  "kernelspec": {
   "name": "python_defaultSpec_1601125238289",
   "display_name": "Python 3.8.3 64-bit ('base': conda)",
   "metadata": {
    "interpreter": {
     "hash": "916dbcbb3f70747c44a77c7bcd40155683ae19c65e1c03b4aa3499c5328201f1"
    }
   }
  }
 },
 "nbformat": 4,
 "nbformat_minor": 2,
 "cells": [
  {
   "cell_type": "code",
   "execution_count": 1,
   "metadata": {},
   "outputs": [],
   "source": [
    "import numpy \n",
    "X = numpy.array([\n",
    "    [12,7,3],\n",
    "    [4 ,5,6],\n",
    "    [7 ,8,9]\n",
    "])\n",
    "\n",
    "Y = numpy.array([\n",
    "    [5,8,1],\n",
    "    [6,7,3],\n",
    "    [4,5,9]\n",
    "])"
   ]
  },
  {
   "cell_type": "code",
   "execution_count": 3,
   "metadata": {},
   "outputs": [
    {
     "output_type": "execute_result",
     "data": {
      "text/plain": "array([[10.90871211,         nan,  2.82842712],\n       [        nan,         nan,  5.19615242],\n       [ 5.74456265,  6.244998  ,  0.        ]])"
     },
     "metadata": {},
     "execution_count": 3
    }
   ],
   "source": [
    "numpy.sqrt(X ** 2 - Y ** 2)"
   ]
  },
  {
   "cell_type": "code",
   "execution_count": 3,
   "metadata": {},
   "outputs": [
    {
     "output_type": "execute_result",
     "data": {
      "text/plain": "array([[0., 0., 0., ..., 0., 0., 0.],\n       [0., 0., 0., ..., 0., 0., 0.],\n       [0., 0., 0., ..., 0., 0., 0.],\n       ...,\n       [0., 0., 0., ..., 0., 0., 0.],\n       [0., 0., 0., ..., 0., 0., 0.],\n       [0., 0., 0., ..., 0., 0., 0.]])"
     },
     "metadata": {},
     "execution_count": 3
    }
   ],
   "source": [
    "import numpy as np\n",
    "frame1=np.zeros((64,64))\n",
    "\n",
    "frame1\n"
   ]
  },
  {
   "cell_type": "code",
   "execution_count": 13,
   "metadata": {},
   "outputs": [
    {
     "output_type": "execute_result",
     "data": {
      "text/plain": "array([[ 86,  89,  84, ..., 175, 168, 171],\n       [ 89,  88,  85, ..., 171, 169, 174],\n       [ 91,  86,  79, ..., 177, 176, 172],\n       ...,\n       [ 65, 126, 123, ...,  78,  98,  99],\n       [ 61, 116, 140, ..., 108,  95, 102],\n       [ 89,  51, 121, ..., 100,  93, 110]], dtype=uint8)"
     },
     "metadata": {},
     "execution_count": 13
    }
   ],
   "source": [
    "\n",
    "# Python program to explain cv2.cvtColor() method  \n",
    "   \n",
    "# importing cv2  \n",
    "import cv2  \n",
    "   \n",
    "# path  \n",
    "path = r'/home/pratt3000/Pictures/Camera Roll/1.jpg'\n",
    "   \n",
    "# Reading an image in default mode \n",
    "src = cv2.imread(path)\n",
    "frame = cv2.cvtColor(src, cv2.COLOR_BGR2GRAY)\n",
    "frame = cv2.resize(frame, dsize=(64, 64), interpolation=cv2.INTER_CUBIC)\n",
    "frame"
   ]
  },
  {
   "cell_type": "code",
   "execution_count": 15,
   "metadata": {},
   "outputs": [
    {
     "output_type": "execute_result",
     "data": {
      "text/plain": "array([[0, 0, 0, ..., 0, 0, 0],\n       [0, 0, 0, ..., 0, 0, 0],\n       [0, 0, 0, ..., 0, 0, 0],\n       ...,\n       [0, 0, 0, ..., 0, 0, 0],\n       [0, 0, 0, ..., 0, 0, 0],\n       [0, 0, 0, ..., 0, 0, 0]], dtype=uint8)"
     },
     "metadata": {},
     "execution_count": 15
    }
   ],
   "source": [
    "frame1 = frame\n",
    "\n",
    "p=cv2.absdiff(frame1, frame)\n",
    "p"
   ]
  },
  {
   "cell_type": "code",
   "execution_count": null,
   "metadata": {},
   "outputs": [],
   "source": []
  }
 ]
}